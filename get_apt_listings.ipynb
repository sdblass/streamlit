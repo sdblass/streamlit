{
  "nbformat": 4,
  "nbformat_minor": 0,
  "metadata": {
    "colab": {
      "name": "get_apt_listings.ipynb",
      "provenance": []
    },
    "kernelspec": {
      "name": "python3",
      "display_name": "Python 3"
    },
    "language_info": {
      "name": "python"
    }
  },
  "cells": [
    {
      "cell_type": "code",
      "source": [
        "!pip install mapbox"
      ],
      "metadata": {
        "colab": {
          "base_uri": "https://localhost:8080/",
          "height": 876
        },
        "id": "Gc1MEwe_Usgo",
        "outputId": "9c21231b-bd89-49cb-e1dd-f5b0d2572eea"
      },
      "execution_count": null,
      "outputs": [
        {
          "output_type": "stream",
          "name": "stdout",
          "text": [
            "Looking in indexes: https://pypi.org/simple, https://us-python.pkg.dev/colab-wheels/public/simple/\n",
            "Collecting mapbox\n",
            "  Downloading mapbox-0.18.0-py2.py3-none-any.whl (30 kB)\n",
            "Collecting boto3>=1.4\n",
            "  Downloading boto3-1.24.7-py3-none-any.whl (132 kB)\n",
            "\u001b[K     |████████████████████████████████| 132 kB 19.5 MB/s \n",
            "\u001b[?25hRequirement already satisfied: python-dateutil>=2.5.0 in /usr/local/lib/python3.7/dist-packages (from mapbox) (2.8.2)\n",
            "Requirement already satisfied: uritemplate>=2.0 in /usr/local/lib/python3.7/dist-packages (from mapbox) (3.0.1)\n",
            "Collecting iso3166\n",
            "  Downloading iso3166-2.0.2-py3-none-any.whl (8.5 kB)\n",
            "Requirement already satisfied: cachecontrol in /usr/local/lib/python3.7/dist-packages (from mapbox) (0.12.11)\n",
            "Collecting polyline>=1.3.1\n",
            "  Downloading polyline-1.4.0-py2.py3-none-any.whl (4.4 kB)\n",
            "Requirement already satisfied: requests in /usr/local/lib/python3.7/dist-packages (from mapbox) (2.23.0)\n",
            "Collecting s3transfer<0.7.0,>=0.6.0\n",
            "  Downloading s3transfer-0.6.0-py3-none-any.whl (79 kB)\n",
            "\u001b[K     |████████████████████████████████| 79 kB 10.7 MB/s \n",
            "\u001b[?25hCollecting jmespath<2.0.0,>=0.7.1\n",
            "  Downloading jmespath-1.0.0-py3-none-any.whl (23 kB)\n",
            "Collecting botocore<1.28.0,>=1.27.7\n",
            "  Downloading botocore-1.27.7-py3-none-any.whl (8.9 MB)\n",
            "\u001b[K     |████████████████████████████████| 8.9 MB 87.2 MB/s \n",
            "\u001b[?25hCollecting urllib3<1.27,>=1.25.4\n",
            "  Downloading urllib3-1.26.9-py2.py3-none-any.whl (138 kB)\n",
            "\u001b[K     |████████████████████████████████| 138 kB 83.1 MB/s \n",
            "\u001b[?25hRequirement already satisfied: six>=1.8.0 in /usr/local/lib/python3.7/dist-packages (from polyline>=1.3.1->mapbox) (1.15.0)\n",
            "Requirement already satisfied: msgpack>=0.5.2 in /usr/local/lib/python3.7/dist-packages (from cachecontrol->mapbox) (1.0.3)\n",
            "  Downloading urllib3-1.25.11-py2.py3-none-any.whl (127 kB)\n",
            "\u001b[K     |████████████████████████████████| 127 kB 73.1 MB/s \n",
            "\u001b[?25hRequirement already satisfied: certifi>=2017.4.17 in /usr/local/lib/python3.7/dist-packages (from requests->mapbox) (2022.5.18.1)\n",
            "Requirement already satisfied: idna<3,>=2.5 in /usr/local/lib/python3.7/dist-packages (from requests->mapbox) (2.10)\n",
            "Requirement already satisfied: chardet<4,>=3.0.2 in /usr/local/lib/python3.7/dist-packages (from requests->mapbox) (3.0.4)\n",
            "Installing collected packages: urllib3, jmespath, botocore, s3transfer, polyline, iso3166, boto3, mapbox\n",
            "  Attempting uninstall: urllib3\n",
            "    Found existing installation: urllib3 1.24.3\n",
            "    Uninstalling urllib3-1.24.3:\n",
            "      Successfully uninstalled urllib3-1.24.3\n",
            "\u001b[31mERROR: pip's dependency resolver does not currently take into account all the packages that are installed. This behaviour is the source of the following dependency conflicts.\n",
            "datascience 0.10.6 requires folium==0.2.1, but you have folium 0.8.3 which is incompatible.\u001b[0m\n",
            "Successfully installed boto3-1.24.7 botocore-1.27.7 iso3166-2.0.2 jmespath-1.0.0 mapbox-0.18.0 polyline-1.4.0 s3transfer-0.6.0 urllib3-1.25.11\n"
          ]
        },
        {
          "output_type": "display_data",
          "data": {
            "application/vnd.colab-display-data+json": {
              "pip_warning": {
                "packages": [
                  "urllib3"
                ]
              }
            }
          },
          "metadata": {}
        }
      ]
    },
    {
      "cell_type": "code",
      "source": [
        "!pip install haversine"
      ],
      "metadata": {
        "colab": {
          "base_uri": "https://localhost:8080/"
        },
        "id": "_XutJui4cTqJ",
        "outputId": "ea4f6ee8-5e33-47f1-f46f-e85be0b27ecc"
      },
      "execution_count": null,
      "outputs": [
        {
          "output_type": "stream",
          "name": "stdout",
          "text": [
            "Looking in indexes: https://pypi.org/simple, https://us-python.pkg.dev/colab-wheels/public/simple/\n",
            "Collecting haversine\n",
            "  Downloading haversine-2.5.1-py2.py3-none-any.whl (6.1 kB)\n",
            "Installing collected packages: haversine\n",
            "Successfully installed haversine-2.5.1\n"
          ]
        }
      ]
    },
    {
      "cell_type": "code",
      "execution_count": null,
      "metadata": {
        "id": "oL22DhoXjXIC"
      },
      "outputs": [],
      "source": [
        "import requests\n",
        "from requests.auth import HTTPBasicAuth\n",
        "from bs4 import BeautifulSoup as bs\n",
        "import pandas as pd\n",
        "import numpy as np\n",
        "from mapbox import Geocoder\n",
        "import time, urllib.parse, math, random\n",
        "from haversine import haversine, Unit, inverse_haversine\n",
        "from sqlalchemy import create_engine"
      ]
    },
    {
      "cell_type": "code",
      "source": [
        "from google.colab import drive\n",
        "drive.mount('/content/drive')"
      ],
      "metadata": {
        "colab": {
          "base_uri": "https://localhost:8080/"
        },
        "id": "9lo_cjNLU5ob",
        "outputId": "04c21d68-2316-4b69-b34b-90f079c82ac1"
      },
      "execution_count": null,
      "outputs": [
        {
          "output_type": "stream",
          "name": "stdout",
          "text": [
            "Mounted at /content/drive\n"
          ]
        }
      ]
    },
    {
      "cell_type": "code",
      "source": [
        "path = '/content/drive/MyDrive/Education/Data Science/7. Data Engineering/'"
      ],
      "metadata": {
        "id": "l5fylyIPVMH0"
      },
      "execution_count": null,
      "outputs": []
    },
    {
      "cell_type": "code",
      "source": [
        "def fetch(ENDPOINT):\n",
        "  api_url = f'https://webautomation.io/api/{ENDPOINT}'\n",
        "  username = 'sam13a@aol.com'\n",
        "  password = 'EYwz5UG%4%Nvw#M7Y*vPi#$bF7XVPWmUx^@N$%5'\n",
        "  r = requests.post(api_url, auth=HTTPBasicAuth(f'{username}', f'{password}'), data={})\n",
        "  r = requests.get(api_url, auth=HTTPBasicAuth(f'{username}', f'{password}'))\n",
        "  return r"
      ],
      "metadata": {
        "id": "gNyOeNG9kNl-"
      },
      "execution_count": null,
      "outputs": []
    },
    {
      "cell_type": "code",
      "source": [
        "r = fetch('sessions/data/211081')"
      ],
      "metadata": {
        "id": "ogDHVmPIl27g"
      },
      "execution_count": null,
      "outputs": []
    },
    {
      "cell_type": "code",
      "source": [
        "results = r.json()"
      ],
      "metadata": {
        "id": "_6dlqJbnm30N"
      },
      "execution_count": null,
      "outputs": []
    },
    {
      "cell_type": "code",
      "source": [
        "results.keys()"
      ],
      "metadata": {
        "id": "TFLOCy5Tm45H",
        "colab": {
          "base_uri": "https://localhost:8080/"
        },
        "outputId": "2d854a76-9ef3-40b8-c12e-c362afd36746"
      },
      "execution_count": null,
      "outputs": [
        {
          "output_type": "execute_result",
          "data": {
            "text/plain": [
              "dict_keys(['id', 'spider', 'job_id', 'status', 'score', 'item_count', 'request_count', 'response_count', 'finish_reason', 'elapsed_time_seconds', 'results'])"
            ]
          },
          "metadata": {},
          "execution_count": 77
        }
      ]
    },
    {
      "cell_type": "code",
      "source": [
        "bedrooms = [results['results'][i]['bedrooms'] for i in range(len(results['results']))]"
      ],
      "metadata": {
        "id": "2r35sANjezaI"
      },
      "execution_count": null,
      "outputs": []
    },
    {
      "cell_type": "code",
      "source": [
        "rents = [results['results'][i]['price'] for i in range(len(results['results']))]"
      ],
      "metadata": {
        "id": "gWYCSdhifUrI"
      },
      "execution_count": null,
      "outputs": []
    },
    {
      "cell_type": "code",
      "source": [
        "addresses = [results['results'][i]['address'] for i in range(len(results['results']))]"
      ],
      "metadata": {
        "id": "O0pcW7U4T6es"
      },
      "execution_count": null,
      "outputs": []
    },
    {
      "cell_type": "code",
      "source": [
        "addresses_df = pd.DataFrame(addresses, columns=['address'])"
      ],
      "metadata": {
        "id": "5f1_bK2QT9Xn"
      },
      "execution_count": null,
      "outputs": []
    },
    {
      "cell_type": "code",
      "source": [
        "addresses_df['bedrooms'] = bedrooms\n",
        "addresses_df['rent'] = rents"
      ],
      "metadata": {
        "id": "zANfx9MEfiN2"
      },
      "execution_count": null,
      "outputs": []
    },
    {
      "cell_type": "code",
      "source": [
        "addresses_df['bdrms'] = addresses_df['bedrooms'].str.split().str[0]"
      ],
      "metadata": {
        "id": "3qjm0_LQf0ap"
      },
      "execution_count": null,
      "outputs": []
    },
    {
      "cell_type": "code",
      "source": [
        "addresses_df['rent_for_map'] = addresses_df['rent'].str.split('-').str[0].replace('[\\$,]', '', regex=True).astype(int)"
      ],
      "metadata": {
        "id": "woIhoPu2gN_E"
      },
      "execution_count": null,
      "outputs": []
    },
    {
      "cell_type": "code",
      "source": [
        "addresses_df['bdrms'] = addresses_df['bdrms'].str.replace('Studio','studio').replace('1','1_br')"
      ],
      "metadata": {
        "id": "T4qgzPOaghB3"
      },
      "execution_count": null,
      "outputs": []
    },
    {
      "cell_type": "code",
      "source": [
        "addresses_df.to_pickle(path + 'addresses')"
      ],
      "metadata": {
        "id": "3aUXn4ItUdBu"
      },
      "execution_count": null,
      "outputs": []
    },
    {
      "cell_type": "code",
      "source": [
        "addresses_df = pd.read_pickle(path + 'addresses')"
      ],
      "metadata": {
        "id": "WpOamGs0VY0o"
      },
      "execution_count": null,
      "outputs": []
    },
    {
      "cell_type": "code",
      "source": [
        "with open(path + 'mapbox_key.txt') as f:\n",
        "  mapbox_access_token = f.read().rstrip()"
      ],
      "metadata": {
        "id": "4RMVIQm4VwBg"
      },
      "execution_count": null,
      "outputs": []
    },
    {
      "cell_type": "code",
      "source": [
        "geocoder = Geocoder(access_token=mapbox_access_token)"
      ],
      "metadata": {
        "id": "47KkKO5OVln9"
      },
      "execution_count": null,
      "outputs": []
    },
    {
      "cell_type": "code",
      "source": [
        "def get_geocoords(address):\n",
        "  time.sleep(2)\n",
        "  response = geocoder.forward(address)\n",
        "  return response.json()['features'][0]['center']"
      ],
      "metadata": {
        "id": "xGnC0lllWful"
      },
      "execution_count": null,
      "outputs": []
    },
    {
      "cell_type": "code",
      "source": [
        "addresses_df['coords'] = addresses_df.apply(lambda x: get_geocoords(x.address), axis=1)"
      ],
      "metadata": {
        "id": "lUtD1aYUZmji"
      },
      "execution_count": null,
      "outputs": []
    },
    {
      "cell_type": "code",
      "source": [
        "addresses_df['lat'] = addresses_df['coords'].str[1]\n",
        "addresses_df['long'] = addresses_df['coords'].str[0]\n",
        "addresses_df.head()"
      ],
      "metadata": {
        "colab": {
          "base_uri": "https://localhost:8080/",
          "height": 206
        },
        "id": "n7ePoq_4aJ3n",
        "outputId": "a6e1734b-930c-49c9-9f8c-0222c99ce77b"
      },
      "execution_count": null,
      "outputs": [
        {
          "output_type": "execute_result",
          "data": {
            "text/plain": [
              "                                    address                   coords  \\\n",
              "0       1788 N Pierce St Arlington VA 22209  [-77.076558, 38.894855]   \n",
              "1      700 N Randolph St Arlington VA 22203     [-77.1094, 38.87927]   \n",
              "2  950 S George Mason Dr Arlington VA 22204    [-77.10242, 38.85923]   \n",
              "3        3400 S Clark St Arlington VA 22202    [-77.05215, 38.84472]   \n",
              "4          320 23rd St S Arlington VA 22202  [-77.051285, 38.852955]   \n",
              "\n",
              "         lat       long  \n",
              "0  38.894855 -77.076558  \n",
              "1  38.879270 -77.109400  \n",
              "2  38.859230 -77.102420  \n",
              "3  38.844720 -77.052150  \n",
              "4  38.852955 -77.051285  "
            ],
            "text/html": [
              "\n",
              "  <div id=\"df-02d561d6-cae8-470b-9205-de33ce432cce\">\n",
              "    <div class=\"colab-df-container\">\n",
              "      <div>\n",
              "<style scoped>\n",
              "    .dataframe tbody tr th:only-of-type {\n",
              "        vertical-align: middle;\n",
              "    }\n",
              "\n",
              "    .dataframe tbody tr th {\n",
              "        vertical-align: top;\n",
              "    }\n",
              "\n",
              "    .dataframe thead th {\n",
              "        text-align: right;\n",
              "    }\n",
              "</style>\n",
              "<table border=\"1\" class=\"dataframe\">\n",
              "  <thead>\n",
              "    <tr style=\"text-align: right;\">\n",
              "      <th></th>\n",
              "      <th>address</th>\n",
              "      <th>coords</th>\n",
              "      <th>lat</th>\n",
              "      <th>long</th>\n",
              "    </tr>\n",
              "  </thead>\n",
              "  <tbody>\n",
              "    <tr>\n",
              "      <th>0</th>\n",
              "      <td>1788 N Pierce St Arlington VA 22209</td>\n",
              "      <td>[-77.076558, 38.894855]</td>\n",
              "      <td>38.894855</td>\n",
              "      <td>-77.076558</td>\n",
              "    </tr>\n",
              "    <tr>\n",
              "      <th>1</th>\n",
              "      <td>700 N Randolph St Arlington VA 22203</td>\n",
              "      <td>[-77.1094, 38.87927]</td>\n",
              "      <td>38.879270</td>\n",
              "      <td>-77.109400</td>\n",
              "    </tr>\n",
              "    <tr>\n",
              "      <th>2</th>\n",
              "      <td>950 S George Mason Dr Arlington VA 22204</td>\n",
              "      <td>[-77.10242, 38.85923]</td>\n",
              "      <td>38.859230</td>\n",
              "      <td>-77.102420</td>\n",
              "    </tr>\n",
              "    <tr>\n",
              "      <th>3</th>\n",
              "      <td>3400 S Clark St Arlington VA 22202</td>\n",
              "      <td>[-77.05215, 38.84472]</td>\n",
              "      <td>38.844720</td>\n",
              "      <td>-77.052150</td>\n",
              "    </tr>\n",
              "    <tr>\n",
              "      <th>4</th>\n",
              "      <td>320 23rd St S Arlington VA 22202</td>\n",
              "      <td>[-77.051285, 38.852955]</td>\n",
              "      <td>38.852955</td>\n",
              "      <td>-77.051285</td>\n",
              "    </tr>\n",
              "  </tbody>\n",
              "</table>\n",
              "</div>\n",
              "      <button class=\"colab-df-convert\" onclick=\"convertToInteractive('df-02d561d6-cae8-470b-9205-de33ce432cce')\"\n",
              "              title=\"Convert this dataframe to an interactive table.\"\n",
              "              style=\"display:none;\">\n",
              "        \n",
              "  <svg xmlns=\"http://www.w3.org/2000/svg\" height=\"24px\"viewBox=\"0 0 24 24\"\n",
              "       width=\"24px\">\n",
              "    <path d=\"M0 0h24v24H0V0z\" fill=\"none\"/>\n",
              "    <path d=\"M18.56 5.44l.94 2.06.94-2.06 2.06-.94-2.06-.94-.94-2.06-.94 2.06-2.06.94zm-11 1L8.5 8.5l.94-2.06 2.06-.94-2.06-.94L8.5 2.5l-.94 2.06-2.06.94zm10 10l.94 2.06.94-2.06 2.06-.94-2.06-.94-.94-2.06-.94 2.06-2.06.94z\"/><path d=\"M17.41 7.96l-1.37-1.37c-.4-.4-.92-.59-1.43-.59-.52 0-1.04.2-1.43.59L10.3 9.45l-7.72 7.72c-.78.78-.78 2.05 0 2.83L4 21.41c.39.39.9.59 1.41.59.51 0 1.02-.2 1.41-.59l7.78-7.78 2.81-2.81c.8-.78.8-2.07 0-2.86zM5.41 20L4 18.59l7.72-7.72 1.47 1.35L5.41 20z\"/>\n",
              "  </svg>\n",
              "      </button>\n",
              "      \n",
              "  <style>\n",
              "    .colab-df-container {\n",
              "      display:flex;\n",
              "      flex-wrap:wrap;\n",
              "      gap: 12px;\n",
              "    }\n",
              "\n",
              "    .colab-df-convert {\n",
              "      background-color: #E8F0FE;\n",
              "      border: none;\n",
              "      border-radius: 50%;\n",
              "      cursor: pointer;\n",
              "      display: none;\n",
              "      fill: #1967D2;\n",
              "      height: 32px;\n",
              "      padding: 0 0 0 0;\n",
              "      width: 32px;\n",
              "    }\n",
              "\n",
              "    .colab-df-convert:hover {\n",
              "      background-color: #E2EBFA;\n",
              "      box-shadow: 0px 1px 2px rgba(60, 64, 67, 0.3), 0px 1px 3px 1px rgba(60, 64, 67, 0.15);\n",
              "      fill: #174EA6;\n",
              "    }\n",
              "\n",
              "    [theme=dark] .colab-df-convert {\n",
              "      background-color: #3B4455;\n",
              "      fill: #D2E3FC;\n",
              "    }\n",
              "\n",
              "    [theme=dark] .colab-df-convert:hover {\n",
              "      background-color: #434B5C;\n",
              "      box-shadow: 0px 1px 3px 1px rgba(0, 0, 0, 0.15);\n",
              "      filter: drop-shadow(0px 1px 2px rgba(0, 0, 0, 0.3));\n",
              "      fill: #FFFFFF;\n",
              "    }\n",
              "  </style>\n",
              "\n",
              "      <script>\n",
              "        const buttonEl =\n",
              "          document.querySelector('#df-02d561d6-cae8-470b-9205-de33ce432cce button.colab-df-convert');\n",
              "        buttonEl.style.display =\n",
              "          google.colab.kernel.accessAllowed ? 'block' : 'none';\n",
              "\n",
              "        async function convertToInteractive(key) {\n",
              "          const element = document.querySelector('#df-02d561d6-cae8-470b-9205-de33ce432cce');\n",
              "          const dataTable =\n",
              "            await google.colab.kernel.invokeFunction('convertToInteractive',\n",
              "                                                     [key], {});\n",
              "          if (!dataTable) return;\n",
              "\n",
              "          const docLinkHtml = 'Like what you see? Visit the ' +\n",
              "            '<a target=\"_blank\" href=https://colab.research.google.com/notebooks/data_table.ipynb>data table notebook</a>'\n",
              "            + ' to learn more about interactive tables.';\n",
              "          element.innerHTML = '';\n",
              "          dataTable['output_type'] = 'display_data';\n",
              "          await google.colab.output.renderOutput(dataTable, element);\n",
              "          const docLink = document.createElement('div');\n",
              "          docLink.innerHTML = docLinkHtml;\n",
              "          element.appendChild(docLink);\n",
              "        }\n",
              "      </script>\n",
              "    </div>\n",
              "  </div>\n",
              "  "
            ]
          },
          "metadata": {},
          "execution_count": 36
        }
      ]
    },
    {
      "cell_type": "markdown",
      "source": [
        "Generate random apartment data to supplement actual listings."
      ],
      "metadata": {
        "id": "hDBpvtKlagCj"
      }
    },
    {
      "cell_type": "code",
      "source": [
        "def generate_map_data(workplace, distance, num_points=5000):\n",
        "    def rent_gen(kind):\n",
        "        studio_low = 1500\n",
        "        one_br_low = 1700\n",
        "        two_br_low = 2200\n",
        "        high = 1000\n",
        "        if kind == 'studio':\n",
        "          return np.random.randint(studio_low, studio_low + high + 1)\n",
        "        elif kind == '1_br': \n",
        "          return np.random.randint(one_br_low, one_br_low + high + 1)\n",
        "        else:\n",
        "          return np.random.randint(two_br_low, two_br_low + high + 1)\n",
        "\n",
        "    map_data = [inverse_haversine(workplace, distance*math.sqrt(random.random()), random.random()*2*math.pi, unit=Unit.MILES) for _ in range(num_points)]\n",
        "    map_data = pd.DataFrame(map_data, columns=['lat', 'long'])\n",
        "    map_data['type'] = [random.choice(['studio', '1_br', '2_br']) for _ in range(map_data.shape[0])]\n",
        "\n",
        "\n",
        "    map_data['rent'] = map_data['type'].apply(lambda x: rent_gen(x))\n",
        "\n",
        "    return map_data"
      ],
      "metadata": {
        "id": "ywmQhBFUcI-O"
      },
      "execution_count": null,
      "outputs": []
    },
    {
      "cell_type": "code",
      "source": [
        "def get_geocoords(address):\n",
        "    workplace = urllib.parse.quote(address)\n",
        "    try: url = f'https://api.mapbox.com/geocoding/v5/mapbox.places/{workplace}.json?access_token={mapbox_access_token}'\n",
        "    except IndexError:\n",
        "        print('Check your address again for typos. The address must be within the immediate DC/MD/VA area.')\n",
        "        return\n",
        "    session = requests.session()\n",
        "    location = session.get(url)\n",
        "    return location.json()['features'][0]['center']"
      ],
      "metadata": {
        "id": "-3dccquMcgXe"
      },
      "execution_count": null,
      "outputs": []
    },
    {
      "cell_type": "code",
      "source": [
        "workplace = get_geocoords('732 N Kenmore St Arlington, VA 22201')[::-1]"
      ],
      "metadata": {
        "id": "3RERNwfGc7-5"
      },
      "execution_count": null,
      "outputs": []
    },
    {
      "cell_type": "code",
      "source": [
        "random_map_data = generate_map_data(workplace, 25, 5000)"
      ],
      "metadata": {
        "id": "hAd0ud6kc8QY"
      },
      "execution_count": null,
      "outputs": []
    },
    {
      "cell_type": "code",
      "source": [
        "random_map_data['random_real'] = 'random'"
      ],
      "metadata": {
        "id": "roKsBBJzdB-z"
      },
      "execution_count": null,
      "outputs": []
    },
    {
      "cell_type": "code",
      "source": [
        "random_map_data.head()"
      ],
      "metadata": {
        "colab": {
          "base_uri": "https://localhost:8080/",
          "height": 206
        },
        "id": "NAdVRcSzh-G2",
        "outputId": "717ef701-fef6-4dc8-a7ef-22f0e9bc41dc"
      },
      "execution_count": null,
      "outputs": [
        {
          "output_type": "execute_result",
          "data": {
            "text/plain": [
              "         lat       long    type  rent random_real\n",
              "0  38.667336 -77.438078  studio  2213      random\n",
              "1  38.855247 -77.468822    1_br  2119      random\n",
              "2  39.136566 -76.915275    2_br  2939      random\n",
              "3  38.994550 -76.686836    2_br  3154      random\n",
              "4  38.831840 -76.698181    1_br  1972      random"
            ],
            "text/html": [
              "\n",
              "  <div id=\"df-d2edb676-2f26-47d2-94d4-1fccb8764c4b\">\n",
              "    <div class=\"colab-df-container\">\n",
              "      <div>\n",
              "<style scoped>\n",
              "    .dataframe tbody tr th:only-of-type {\n",
              "        vertical-align: middle;\n",
              "    }\n",
              "\n",
              "    .dataframe tbody tr th {\n",
              "        vertical-align: top;\n",
              "    }\n",
              "\n",
              "    .dataframe thead th {\n",
              "        text-align: right;\n",
              "    }\n",
              "</style>\n",
              "<table border=\"1\" class=\"dataframe\">\n",
              "  <thead>\n",
              "    <tr style=\"text-align: right;\">\n",
              "      <th></th>\n",
              "      <th>lat</th>\n",
              "      <th>long</th>\n",
              "      <th>type</th>\n",
              "      <th>rent</th>\n",
              "      <th>random_real</th>\n",
              "    </tr>\n",
              "  </thead>\n",
              "  <tbody>\n",
              "    <tr>\n",
              "      <th>0</th>\n",
              "      <td>38.667336</td>\n",
              "      <td>-77.438078</td>\n",
              "      <td>studio</td>\n",
              "      <td>2213</td>\n",
              "      <td>random</td>\n",
              "    </tr>\n",
              "    <tr>\n",
              "      <th>1</th>\n",
              "      <td>38.855247</td>\n",
              "      <td>-77.468822</td>\n",
              "      <td>1_br</td>\n",
              "      <td>2119</td>\n",
              "      <td>random</td>\n",
              "    </tr>\n",
              "    <tr>\n",
              "      <th>2</th>\n",
              "      <td>39.136566</td>\n",
              "      <td>-76.915275</td>\n",
              "      <td>2_br</td>\n",
              "      <td>2939</td>\n",
              "      <td>random</td>\n",
              "    </tr>\n",
              "    <tr>\n",
              "      <th>3</th>\n",
              "      <td>38.994550</td>\n",
              "      <td>-76.686836</td>\n",
              "      <td>2_br</td>\n",
              "      <td>3154</td>\n",
              "      <td>random</td>\n",
              "    </tr>\n",
              "    <tr>\n",
              "      <th>4</th>\n",
              "      <td>38.831840</td>\n",
              "      <td>-76.698181</td>\n",
              "      <td>1_br</td>\n",
              "      <td>1972</td>\n",
              "      <td>random</td>\n",
              "    </tr>\n",
              "  </tbody>\n",
              "</table>\n",
              "</div>\n",
              "      <button class=\"colab-df-convert\" onclick=\"convertToInteractive('df-d2edb676-2f26-47d2-94d4-1fccb8764c4b')\"\n",
              "              title=\"Convert this dataframe to an interactive table.\"\n",
              "              style=\"display:none;\">\n",
              "        \n",
              "  <svg xmlns=\"http://www.w3.org/2000/svg\" height=\"24px\"viewBox=\"0 0 24 24\"\n",
              "       width=\"24px\">\n",
              "    <path d=\"M0 0h24v24H0V0z\" fill=\"none\"/>\n",
              "    <path d=\"M18.56 5.44l.94 2.06.94-2.06 2.06-.94-2.06-.94-.94-2.06-.94 2.06-2.06.94zm-11 1L8.5 8.5l.94-2.06 2.06-.94-2.06-.94L8.5 2.5l-.94 2.06-2.06.94zm10 10l.94 2.06.94-2.06 2.06-.94-2.06-.94-.94-2.06-.94 2.06-2.06.94z\"/><path d=\"M17.41 7.96l-1.37-1.37c-.4-.4-.92-.59-1.43-.59-.52 0-1.04.2-1.43.59L10.3 9.45l-7.72 7.72c-.78.78-.78 2.05 0 2.83L4 21.41c.39.39.9.59 1.41.59.51 0 1.02-.2 1.41-.59l7.78-7.78 2.81-2.81c.8-.78.8-2.07 0-2.86zM5.41 20L4 18.59l7.72-7.72 1.47 1.35L5.41 20z\"/>\n",
              "  </svg>\n",
              "      </button>\n",
              "      \n",
              "  <style>\n",
              "    .colab-df-container {\n",
              "      display:flex;\n",
              "      flex-wrap:wrap;\n",
              "      gap: 12px;\n",
              "    }\n",
              "\n",
              "    .colab-df-convert {\n",
              "      background-color: #E8F0FE;\n",
              "      border: none;\n",
              "      border-radius: 50%;\n",
              "      cursor: pointer;\n",
              "      display: none;\n",
              "      fill: #1967D2;\n",
              "      height: 32px;\n",
              "      padding: 0 0 0 0;\n",
              "      width: 32px;\n",
              "    }\n",
              "\n",
              "    .colab-df-convert:hover {\n",
              "      background-color: #E2EBFA;\n",
              "      box-shadow: 0px 1px 2px rgba(60, 64, 67, 0.3), 0px 1px 3px 1px rgba(60, 64, 67, 0.15);\n",
              "      fill: #174EA6;\n",
              "    }\n",
              "\n",
              "    [theme=dark] .colab-df-convert {\n",
              "      background-color: #3B4455;\n",
              "      fill: #D2E3FC;\n",
              "    }\n",
              "\n",
              "    [theme=dark] .colab-df-convert:hover {\n",
              "      background-color: #434B5C;\n",
              "      box-shadow: 0px 1px 3px 1px rgba(0, 0, 0, 0.15);\n",
              "      filter: drop-shadow(0px 1px 2px rgba(0, 0, 0, 0.3));\n",
              "      fill: #FFFFFF;\n",
              "    }\n",
              "  </style>\n",
              "\n",
              "      <script>\n",
              "        const buttonEl =\n",
              "          document.querySelector('#df-d2edb676-2f26-47d2-94d4-1fccb8764c4b button.colab-df-convert');\n",
              "        buttonEl.style.display =\n",
              "          google.colab.kernel.accessAllowed ? 'block' : 'none';\n",
              "\n",
              "        async function convertToInteractive(key) {\n",
              "          const element = document.querySelector('#df-d2edb676-2f26-47d2-94d4-1fccb8764c4b');\n",
              "          const dataTable =\n",
              "            await google.colab.kernel.invokeFunction('convertToInteractive',\n",
              "                                                     [key], {});\n",
              "          if (!dataTable) return;\n",
              "\n",
              "          const docLinkHtml = 'Like what you see? Visit the ' +\n",
              "            '<a target=\"_blank\" href=https://colab.research.google.com/notebooks/data_table.ipynb>data table notebook</a>'\n",
              "            + ' to learn more about interactive tables.';\n",
              "          element.innerHTML = '';\n",
              "          dataTable['output_type'] = 'display_data';\n",
              "          await google.colab.output.renderOutput(dataTable, element);\n",
              "          const docLink = document.createElement('div');\n",
              "          docLink.innerHTML = docLinkHtml;\n",
              "          element.appendChild(docLink);\n",
              "        }\n",
              "      </script>\n",
              "    </div>\n",
              "  </div>\n",
              "  "
            ]
          },
          "metadata": {},
          "execution_count": 11
        }
      ]
    },
    {
      "cell_type": "code",
      "source": [
        "addresses_df['random_real'] = 'real'"
      ],
      "metadata": {
        "id": "gMvkBUqdhz00"
      },
      "execution_count": null,
      "outputs": []
    },
    {
      "cell_type": "code",
      "source": [
        "addresses_df_merge = addresses_df[['lat', 'long', 'bdrms', 'rent_for_map', 'random_real']].copy()"
      ],
      "metadata": {
        "id": "xCm0bR8NdyQF"
      },
      "execution_count": null,
      "outputs": []
    },
    {
      "cell_type": "code",
      "source": [
        "addresses_df_merge.columns = random_map_data.columns"
      ],
      "metadata": {
        "id": "cKKRS95GUtS-"
      },
      "execution_count": null,
      "outputs": []
    },
    {
      "cell_type": "code",
      "source": [
        "map_data_arlington = pd.concat([addresses_df_merge, random_map_data]).reset_index(drop=True)"
      ],
      "metadata": {
        "id": "YFyw095AhpnU"
      },
      "execution_count": null,
      "outputs": []
    },
    {
      "cell_type": "code",
      "source": [
        "map_data_arlington.to_pickle(path + 'map_data_arlington')"
      ],
      "metadata": {
        "id": "wE6KP1SETjaX"
      },
      "execution_count": null,
      "outputs": []
    },
    {
      "cell_type": "markdown",
      "source": [
        "Create SQL database from this data."
      ],
      "metadata": {
        "id": "QBP97bx6Z2uX"
      }
    },
    {
      "cell_type": "code",
      "source": [
        "engine = create_engine(f'sqlite:////{path}/address_data_sql.db')\n"
      ],
      "metadata": {
        "id": "9JIgmt2aZ6O4"
      },
      "execution_count": null,
      "outputs": []
    },
    {
      "cell_type": "code",
      "source": [
        "# map_data_arlington.to_sql('address_data_sql', engine)\n",
        "map_data_arlington.to_sql('address_data_table', engine)"
      ],
      "metadata": {
        "id": "Ktqwk8vRVJ0J"
      },
      "execution_count": null,
      "outputs": []
    },
    {
      "cell_type": "code",
      "source": [
        "pd.read_sql('SELECT * FROM address_data_table;', engine)"
      ],
      "metadata": {
        "colab": {
          "base_uri": "https://localhost:8080/",
          "height": 424
        },
        "id": "cBvL-dhnXvZF",
        "outputId": "e0a4f3d0-5278-4f75-cd04-f1f8edb36060"
      },
      "execution_count": null,
      "outputs": [
        {
          "output_type": "execute_result",
          "data": {
            "text/plain": [
              "      index        lat       long    type  rent random_real\n",
              "0         0  38.894855 -77.076558    1_br  3835        real\n",
              "1         1  38.879270 -77.109400  studio  2000        real\n",
              "2         2  38.859230 -77.102420    1_br  2058        real\n",
              "3         3  38.844720 -77.052150  studio  1742        real\n",
              "4         4  38.852955 -77.051285  studio  1744        real\n",
              "...     ...        ...        ...     ...   ...         ...\n",
              "5021   5021  38.908627 -76.895832  studio  1566      random\n",
              "5022   5022  38.915288 -76.813617  studio  2344      random\n",
              "5023   5023  39.079767 -76.753622  studio  2075      random\n",
              "5024   5024  39.101965 -77.210269    1_br  1811      random\n",
              "5025   5025  38.939081 -77.536370  studio  2210      random\n",
              "\n",
              "[5026 rows x 6 columns]"
            ],
            "text/html": [
              "\n",
              "  <div id=\"df-6133e78e-161e-4741-a93d-918fe36e196f\">\n",
              "    <div class=\"colab-df-container\">\n",
              "      <div>\n",
              "<style scoped>\n",
              "    .dataframe tbody tr th:only-of-type {\n",
              "        vertical-align: middle;\n",
              "    }\n",
              "\n",
              "    .dataframe tbody tr th {\n",
              "        vertical-align: top;\n",
              "    }\n",
              "\n",
              "    .dataframe thead th {\n",
              "        text-align: right;\n",
              "    }\n",
              "</style>\n",
              "<table border=\"1\" class=\"dataframe\">\n",
              "  <thead>\n",
              "    <tr style=\"text-align: right;\">\n",
              "      <th></th>\n",
              "      <th>index</th>\n",
              "      <th>lat</th>\n",
              "      <th>long</th>\n",
              "      <th>type</th>\n",
              "      <th>rent</th>\n",
              "      <th>random_real</th>\n",
              "    </tr>\n",
              "  </thead>\n",
              "  <tbody>\n",
              "    <tr>\n",
              "      <th>0</th>\n",
              "      <td>0</td>\n",
              "      <td>38.894855</td>\n",
              "      <td>-77.076558</td>\n",
              "      <td>1_br</td>\n",
              "      <td>3835</td>\n",
              "      <td>real</td>\n",
              "    </tr>\n",
              "    <tr>\n",
              "      <th>1</th>\n",
              "      <td>1</td>\n",
              "      <td>38.879270</td>\n",
              "      <td>-77.109400</td>\n",
              "      <td>studio</td>\n",
              "      <td>2000</td>\n",
              "      <td>real</td>\n",
              "    </tr>\n",
              "    <tr>\n",
              "      <th>2</th>\n",
              "      <td>2</td>\n",
              "      <td>38.859230</td>\n",
              "      <td>-77.102420</td>\n",
              "      <td>1_br</td>\n",
              "      <td>2058</td>\n",
              "      <td>real</td>\n",
              "    </tr>\n",
              "    <tr>\n",
              "      <th>3</th>\n",
              "      <td>3</td>\n",
              "      <td>38.844720</td>\n",
              "      <td>-77.052150</td>\n",
              "      <td>studio</td>\n",
              "      <td>1742</td>\n",
              "      <td>real</td>\n",
              "    </tr>\n",
              "    <tr>\n",
              "      <th>4</th>\n",
              "      <td>4</td>\n",
              "      <td>38.852955</td>\n",
              "      <td>-77.051285</td>\n",
              "      <td>studio</td>\n",
              "      <td>1744</td>\n",
              "      <td>real</td>\n",
              "    </tr>\n",
              "    <tr>\n",
              "      <th>...</th>\n",
              "      <td>...</td>\n",
              "      <td>...</td>\n",
              "      <td>...</td>\n",
              "      <td>...</td>\n",
              "      <td>...</td>\n",
              "      <td>...</td>\n",
              "    </tr>\n",
              "    <tr>\n",
              "      <th>5021</th>\n",
              "      <td>5021</td>\n",
              "      <td>38.908627</td>\n",
              "      <td>-76.895832</td>\n",
              "      <td>studio</td>\n",
              "      <td>1566</td>\n",
              "      <td>random</td>\n",
              "    </tr>\n",
              "    <tr>\n",
              "      <th>5022</th>\n",
              "      <td>5022</td>\n",
              "      <td>38.915288</td>\n",
              "      <td>-76.813617</td>\n",
              "      <td>studio</td>\n",
              "      <td>2344</td>\n",
              "      <td>random</td>\n",
              "    </tr>\n",
              "    <tr>\n",
              "      <th>5023</th>\n",
              "      <td>5023</td>\n",
              "      <td>39.079767</td>\n",
              "      <td>-76.753622</td>\n",
              "      <td>studio</td>\n",
              "      <td>2075</td>\n",
              "      <td>random</td>\n",
              "    </tr>\n",
              "    <tr>\n",
              "      <th>5024</th>\n",
              "      <td>5024</td>\n",
              "      <td>39.101965</td>\n",
              "      <td>-77.210269</td>\n",
              "      <td>1_br</td>\n",
              "      <td>1811</td>\n",
              "      <td>random</td>\n",
              "    </tr>\n",
              "    <tr>\n",
              "      <th>5025</th>\n",
              "      <td>5025</td>\n",
              "      <td>38.939081</td>\n",
              "      <td>-77.536370</td>\n",
              "      <td>studio</td>\n",
              "      <td>2210</td>\n",
              "      <td>random</td>\n",
              "    </tr>\n",
              "  </tbody>\n",
              "</table>\n",
              "<p>5026 rows × 6 columns</p>\n",
              "</div>\n",
              "      <button class=\"colab-df-convert\" onclick=\"convertToInteractive('df-6133e78e-161e-4741-a93d-918fe36e196f')\"\n",
              "              title=\"Convert this dataframe to an interactive table.\"\n",
              "              style=\"display:none;\">\n",
              "        \n",
              "  <svg xmlns=\"http://www.w3.org/2000/svg\" height=\"24px\"viewBox=\"0 0 24 24\"\n",
              "       width=\"24px\">\n",
              "    <path d=\"M0 0h24v24H0V0z\" fill=\"none\"/>\n",
              "    <path d=\"M18.56 5.44l.94 2.06.94-2.06 2.06-.94-2.06-.94-.94-2.06-.94 2.06-2.06.94zm-11 1L8.5 8.5l.94-2.06 2.06-.94-2.06-.94L8.5 2.5l-.94 2.06-2.06.94zm10 10l.94 2.06.94-2.06 2.06-.94-2.06-.94-.94-2.06-.94 2.06-2.06.94z\"/><path d=\"M17.41 7.96l-1.37-1.37c-.4-.4-.92-.59-1.43-.59-.52 0-1.04.2-1.43.59L10.3 9.45l-7.72 7.72c-.78.78-.78 2.05 0 2.83L4 21.41c.39.39.9.59 1.41.59.51 0 1.02-.2 1.41-.59l7.78-7.78 2.81-2.81c.8-.78.8-2.07 0-2.86zM5.41 20L4 18.59l7.72-7.72 1.47 1.35L5.41 20z\"/>\n",
              "  </svg>\n",
              "      </button>\n",
              "      \n",
              "  <style>\n",
              "    .colab-df-container {\n",
              "      display:flex;\n",
              "      flex-wrap:wrap;\n",
              "      gap: 12px;\n",
              "    }\n",
              "\n",
              "    .colab-df-convert {\n",
              "      background-color: #E8F0FE;\n",
              "      border: none;\n",
              "      border-radius: 50%;\n",
              "      cursor: pointer;\n",
              "      display: none;\n",
              "      fill: #1967D2;\n",
              "      height: 32px;\n",
              "      padding: 0 0 0 0;\n",
              "      width: 32px;\n",
              "    }\n",
              "\n",
              "    .colab-df-convert:hover {\n",
              "      background-color: #E2EBFA;\n",
              "      box-shadow: 0px 1px 2px rgba(60, 64, 67, 0.3), 0px 1px 3px 1px rgba(60, 64, 67, 0.15);\n",
              "      fill: #174EA6;\n",
              "    }\n",
              "\n",
              "    [theme=dark] .colab-df-convert {\n",
              "      background-color: #3B4455;\n",
              "      fill: #D2E3FC;\n",
              "    }\n",
              "\n",
              "    [theme=dark] .colab-df-convert:hover {\n",
              "      background-color: #434B5C;\n",
              "      box-shadow: 0px 1px 3px 1px rgba(0, 0, 0, 0.15);\n",
              "      filter: drop-shadow(0px 1px 2px rgba(0, 0, 0, 0.3));\n",
              "      fill: #FFFFFF;\n",
              "    }\n",
              "  </style>\n",
              "\n",
              "      <script>\n",
              "        const buttonEl =\n",
              "          document.querySelector('#df-6133e78e-161e-4741-a93d-918fe36e196f button.colab-df-convert');\n",
              "        buttonEl.style.display =\n",
              "          google.colab.kernel.accessAllowed ? 'block' : 'none';\n",
              "\n",
              "        async function convertToInteractive(key) {\n",
              "          const element = document.querySelector('#df-6133e78e-161e-4741-a93d-918fe36e196f');\n",
              "          const dataTable =\n",
              "            await google.colab.kernel.invokeFunction('convertToInteractive',\n",
              "                                                     [key], {});\n",
              "          if (!dataTable) return;\n",
              "\n",
              "          const docLinkHtml = 'Like what you see? Visit the ' +\n",
              "            '<a target=\"_blank\" href=https://colab.research.google.com/notebooks/data_table.ipynb>data table notebook</a>'\n",
              "            + ' to learn more about interactive tables.';\n",
              "          element.innerHTML = '';\n",
              "          dataTable['output_type'] = 'display_data';\n",
              "          await google.colab.output.renderOutput(dataTable, element);\n",
              "          const docLink = document.createElement('div');\n",
              "          docLink.innerHTML = docLinkHtml;\n",
              "          element.appendChild(docLink);\n",
              "        }\n",
              "      </script>\n",
              "    </div>\n",
              "  </div>\n",
              "  "
            ]
          },
          "metadata": {},
          "execution_count": 47
        }
      ]
    },
    {
      "cell_type": "code",
      "source": [
        ""
      ],
      "metadata": {
        "id": "0QlYw3bRaGtK"
      },
      "execution_count": null,
      "outputs": []
    }
  ]
}